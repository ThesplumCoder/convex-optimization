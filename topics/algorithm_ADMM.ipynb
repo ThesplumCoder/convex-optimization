{
 "cells": [
  {
   "cell_type": "markdown",
   "id": "ca385fc1-71e8-4d5a-b291-9232864f5dc3",
   "metadata": {},
   "source": [
    "# Algorithm ADMM"
   ]
  },
  {
   "cell_type": "markdown",
   "id": "c571d06b-7d86-4786-8a4b-1fcd2c689050",
   "metadata": {},
   "source": [
    "The problem:\n",
    "$$\n",
    "\\begin{alignat}{1}\n",
    "\\min_{x_1, x_2} & \\frac{1}{2} (x_1^2 + x_2^2) \\\\\n",
    "subject\\ &to\\ x_1 - 1 \\leqslant 0\n",
    "\\end{alignat}\n",
    "$$"
   ]
  },
  {
   "cell_type": "markdown",
   "id": "1301f13c-9a50-430a-8e1b-7c866c755850",
   "metadata": {},
   "source": [
    "Compute the Lagrangian:\n",
    "$$\n",
    "\\mathcal{L}(x_1, x_2, \\lambda) = \\frac{1}{2} (x_1^2 + x_2^2) - \\lambda (x_1 - 1)\n",
    "$$"
   ]
  },
  {
   "cell_type": "markdown",
   "id": "f85dc000-a97a-4c56-ba22-2c5f95fa30e7",
   "metadata": {},
   "source": [
    "Compute the Dual Function:\n",
    "$$\n",
    "\\begin{alignat}{1}\n",
    "g(\\lambda_1) = \\inf_x \\mathcal{L}(x_1, x_2, \\lambda_1) \\\\\n",
    "\\nabla \\mathcal{L} = \\begin{bmatrix} x_1 - \\lambda_1 \\\\ x_2 \\end{bmatrix} = 0 \\\\\n",
    "g(\\lambda_1) [WIP]\n",
    "\\end{alignat}\n",
    "$$"
   ]
  },
  {
   "cell_type": "markdown",
   "id": "53f68587-e9cc-4afa-826f-72068a3b745b",
   "metadata": {},
   "source": [
    "If we can't achieve an optimal $\\lambda$, then we use *Coordinated LL*:\n",
    "$$\n",
    "\\begin{gather}\n",
    "\\min_{x_1, x_2} \\max_{\\lambda_1} \\mathcal{L}(x_1, x_2, \\lambda_1) = \\frac{1}{2} (x_1^2 + x_2^2) - \\lambda (x_1 - 1) \\\\\n",
    "x^{k + 1} = \\min_{x} \\mathcal{L}(x, \\lambda^k) \\\\\n",
    "\\lambda^{k + 1} = \\max_{\\lambda} \\mathcal{L}(x^k, \\lambda)\n",
    "\\end{gather}\n",
    "$$"
   ]
  },
  {
   "cell_type": "markdown",
   "id": "4c1302b8-04e1-4e6f-98f3-38bedcea3e80",
   "metadata": {},
   "source": [
    "For optimize $\\lambda^{k + 1}$ i can use:\n",
    "$$\n",
    "\\lambda^{k + 1} = \\lambda^k + \\delta \\nabla \\mathcal{L}(x^k, \\lambda^k)\n",
    "$$"
   ]
  },
  {
   "cell_type": "markdown",
   "id": "b3519be5-c8db-4c30-8586-1752da43b841",
   "metadata": {},
   "source": [
    "If the function is:\n",
    "$$\n",
    "\\begin{gather}\n",
    "\\min ||Rx - y ||_2^2 \\\\\n",
    "subject\\ Dx = b\n",
    "\\end{gather}\n",
    "$$\n",
    "\n",
    "$$\n",
    "\\begin{alignat}{1}\n",
    "\\mathcal{L}(x, \\lambda) &= ||Rx - y||^2_2 - \\lambda^T(Dx - b) \\\\\n",
    "x^{k + 1} &= \\min_x ||Rx - y||^2_2 - \\lambda^T_k(Dx - b) \\\\\n",
    "&2R^T(Rx -y) + D^T \\lambda = 0 \\\\\n",
    "&2R^T(Rx -y) + D^T \\lambda = 0 [WIP]\n",
    "\\end{alignat}\n",
    "$$"
   ]
  },
  {
   "cell_type": "markdown",
   "id": "10eaa19a-1d78-4989-ad1c-130329c070b5",
   "metadata": {},
   "source": [
    "## ADMM with Scaled Dual Variables"
   ]
  },
  {
   "cell_type": "markdown",
   "id": "9345dd84-6fde-48a7-8f65-ec444ca526db",
   "metadata": {},
   "source": [
    "The Lagrangian can be written as:\n",
    "$$\n",
    "\\begin{gather}\n",
    "\\mathcal{L} (x, z, \\mu) = f(x) + \\rho ||Ax - b + \\mu||_2^2 + g(z) \\\\\n",
    "\\min f(x) + ||x - \\hat{x}||_2^2 \\\\\n",
    "\\min g(z) + ||z - \\hat{x}||_2^2\n",
    "\\end{gather}\n",
    "$$"
   ]
  },
  {
   "cell_type": "markdown",
   "id": "a18cbe93-bf8c-4d2e-9da2-0cc4831a822b",
   "metadata": {},
   "source": [
    "## LASO Algorithm"
   ]
  },
  {
   "cell_type": "markdown",
   "id": "ee3b49e3-178f-48d8-a19f-a205f4babab3",
   "metadata": {},
   "source": [
    "If we have the problem:\n",
    "$$\n",
    "\\min_x{||y - Ax||_2^2 + \\underbrace{\\lambda ||x||_1}_{Regularization}}\n",
    "$$\n",
    "\n",
    "It transforms in:\n",
    "$$\n",
    "\\begin{gather}\n",
    "\\min_{x, z}{||y - Ax||_2^2 + \\lambda ||z||_1} \\\\\n",
    "subject\\ to\\ x=z \\\\\n",
    "\\end{gather}\n",
    "$$\n",
    "\n",
    "$$\n",
    "\\begin{alignat}{1}\n",
    "\\mathcal{L}(x, z, \\mu) &= ||y - Ax||_2^2 + \\lambda ||z||_1 + \\frac{\\rho}{2} ||x - z + \\mu||_2^2 \\\\\n",
    "\\min_x \\mathcal{L}(x, z, \\mu) &= ||y - Ax||_2^2 + \\frac{\\rho}{2} ||x - z^k + \\mu^k||_2^2 \\\\\n",
    "\\min_z \\mathcal{L}(x, z, \\mu) &= \\lambda||z||_1 + \\frac{\\rho}{2} ||x^k - z + \\mu^k||_2^2 \\\\\n",
    "\\max_\\mu \\mu^{k + 1} &= \\mu^k + \\rho (x^k - z^k)\n",
    "\\end{alignat}\n",
    "$$"
   ]
  },
  {
   "cell_type": "code",
   "execution_count": null,
   "id": "9fa4af1c-523b-4cc1-94d1-1ba66b47b70a",
   "metadata": {},
   "outputs": [],
   "source": []
  }
 ],
 "metadata": {
  "kernelspec": {
   "display_name": "Python 3 (ipykernel)",
   "language": "python",
   "name": "python3"
  },
  "language_info": {
   "codemirror_mode": {
    "name": "ipython",
    "version": 3
   },
   "file_extension": ".py",
   "mimetype": "text/x-python",
   "name": "python",
   "nbconvert_exporter": "python",
   "pygments_lexer": "ipython3",
   "version": "3.13.3"
  }
 },
 "nbformat": 4,
 "nbformat_minor": 5
}
