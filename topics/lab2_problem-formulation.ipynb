{
 "cells": [
  {
   "cell_type": "markdown",
   "id": "a41bb79f-d042-4333-9a4b-f6c2f4ecc186",
   "metadata": {
    "editable": true,
    "slideshow": {
     "slide_type": ""
    },
    "tags": []
   },
   "source": [
    "# Laboratorio 2 - Formulación de problemas"
   ]
  },
  {
   "cell_type": "markdown",
   "id": "05d959dd-89b1-45fd-bced-5203bc304511",
   "metadata": {},
   "source": [
    "## Punto 1"
   ]
  },
  {
   "cell_type": "markdown",
   "id": "7ff5668e-f5a9-4b11-b6b4-9943d1455baf",
   "metadata": {},
   "source": [
    "Para una propuesta de investigación se desean contratar estudiantes de doctorado\n",
    "y maestría. Hay 3 actividades principales, que deben cumplirse, la programació, redacción y\n",
    "divulgación. Los estudiantes de doctorado dedican 2 horas a la programación, 7 a la redacción\n",
    "y 1 a la divulgación, y los estudiantes de maestría 4 horas a la programación, 2 redacción y 1\n",
    "a la divulgación. Si la propuesta se debe satisfacer un mínimo de 16 horas de programación, 5\n",
    "de divulgación y 20 de redacción. Cuantos estudiantes se necesitan en el proyecto con tal de\n",
    "reducir al máximo los gastos, si la hora de un estudiante de maestría vale 50 y la de doctorado\n",
    "100."
   ]
  },
  {
   "cell_type": "markdown",
   "id": "055e15e5-5941-4b21-a117-e7676ca704d0",
   "metadata": {},
   "source": [
    "### Planteamiento"
   ]
  },
  {
   "cell_type": "markdown",
   "id": "797a7125-ea6e-4dbe-be65-20c5c0f8b14a",
   "metadata": {},
   "source": [
    "Hay dos categorías: doctorado y maestría.\n",
    "$$\n",
    "h =\n",
    "\\begin{bmatrix}\n",
    "   programming \\\\\n",
    "   writing \\\\\n",
    "   divulgation\n",
    "\\end{bmatrix}\n",
    "\\\\\n",
    "doctor = \n",
    "\\begin{bmatrix}\n",
    "   2 \\\\\n",
    "   7 \\\\\n",
    "   1\n",
    "\\end{bmatrix}\n",
    "master = \n",
    "\\begin{bmatrix}\n",
    "   4 \\\\\n",
    "   2 \\\\\n",
    "   1\n",
    "\\end{bmatrix}\n",
    "\\\\\n",
    "$$"
   ]
  },
  {
   "cell_type": "markdown",
   "id": "16ec49f4-88ea-45d3-8183-c06d21c50f0d",
   "metadata": {},
   "source": [
    "Se proponen las siguiente forma de solución:\n",
    "$$\n",
    "x = \n",
    "\\begin{bmatrix}\n",
    "   n_{doctor} \\\\\n",
    "   n_{master}\n",
    "\\end{bmatrix}\n",
    "$$"
   ]
  },
  {
   "cell_type": "markdown",
   "id": "861191d3-36bc-45ef-9217-4260d7c22c7a",
   "metadata": {},
   "source": [
    "Posibles soluciones:\n",
    "$$\n",
    "x_a = \n",
    "\\begin{bmatrix}\n",
    "   2 \\\\\n",
    "   4\n",
    "\\end{bmatrix}\n",
    "\\\\\n",
    "x_b = \n",
    "\\begin{bmatrix}\n",
    "   3 \\\\\n",
    "   3\n",
    "\\end{bmatrix}\n",
    "$$"
   ]
  },
  {
   "cell_type": "markdown",
   "id": "585777dc-0170-4103-ade5-19d7e98e9e6c",
   "metadata": {},
   "source": [
    "La función de costo se compondría:\n",
    "$$\n",
    "\\begin{gather}\n",
    "f(x) = x_1(100)(2 + 7 + 1) + x_2(50)(4 + 2 + 1) \\\\\n",
    "\\boxed{f(x) = 1000 x_1 + 350 x_2}\n",
    "\\end{gather}\n",
    "$$"
   ]
  },
  {
   "cell_type": "markdown",
   "id": "5e1328b4-fea4-46e1-a719-838b3d990ada",
   "metadata": {},
   "source": [
    "Como vamos a minimizar la función, entonces denotamos:\n",
    "$$\n",
    "\\begin{matrix}\n",
    "minimize & -f(x) = -1000 x_1 - 350 x_2\n",
    "\\end{matrix}\n",
    "$$"
   ]
  },
  {
   "cell_type": "markdown",
   "id": "6b89e5ff-896b-4d65-ada3-3f938e0d4b77",
   "metadata": {},
   "source": [
    "Las restricciones serían:\n",
    "$$\n",
    "\\begin{gather}\n",
    "g(x) = 2 x_1 + 4 x_2 \\geqslant 16 \\\\\n",
    "j(x) = 7 x_1 + 2 x_2 \\geqslant 20 \\\\\n",
    "k(x) = x_1 + x_2 \\geqslant 5\n",
    "\\end{gather}\n",
    "$$"
   ]
  },
  {
   "cell_type": "markdown",
   "id": "27a91ef8-7717-460e-9eaf-7f7aa0c6ae58",
   "metadata": {},
   "source": [
    "### Implementación"
   ]
  },
  {
   "cell_type": "code",
   "execution_count": 1,
   "id": "e2d6a421-08a7-456f-adfe-81829a61fc4c",
   "metadata": {},
   "outputs": [
    {
     "name": "stdout",
     "output_type": "stream",
     "text": [
      "Requirement already satisfied: matplotlib in ./venv/lib/python3.11/site-packages (3.10.0)\n",
      "Requirement already satisfied: contourpy>=1.0.1 in ./venv/lib/python3.11/site-packages (from matplotlib) (1.3.1)\n",
      "Requirement already satisfied: cycler>=0.10 in ./venv/lib/python3.11/site-packages (from matplotlib) (0.12.1)\n",
      "Requirement already satisfied: fonttools>=4.22.0 in ./venv/lib/python3.11/site-packages (from matplotlib) (4.56.0)\n",
      "Requirement already satisfied: kiwisolver>=1.3.1 in ./venv/lib/python3.11/site-packages (from matplotlib) (1.4.8)\n",
      "Requirement already satisfied: numpy>=1.23 in ./venv/lib/python3.11/site-packages (from matplotlib) (2.2.3)\n",
      "Requirement already satisfied: packaging>=20.0 in ./venv/lib/python3.11/site-packages (from matplotlib) (24.2)\n",
      "Requirement already satisfied: pillow>=8 in ./venv/lib/python3.11/site-packages (from matplotlib) (11.1.0)\n",
      "Requirement already satisfied: pyparsing>=2.3.1 in ./venv/lib/python3.11/site-packages (from matplotlib) (3.2.1)\n",
      "Requirement already satisfied: python-dateutil>=2.7 in ./venv/lib/python3.11/site-packages (from matplotlib) (2.9.0.post0)\n",
      "Requirement already satisfied: six>=1.5 in ./venv/lib/python3.11/site-packages (from python-dateutil>=2.7->matplotlib) (1.17.0)\n",
      "Requirement already satisfied: numpy in ./venv/lib/python3.11/site-packages (2.2.3)\n"
     ]
    }
   ],
   "source": [
    "!pip install matplotlib\n",
    "!pip install numpy"
   ]
  },
  {
   "cell_type": "code",
   "execution_count": 2,
   "id": "fa6b7dc3-2f94-4096-bf86-222f5bf737fe",
   "metadata": {},
   "outputs": [],
   "source": [
    "import matplotlib.pyplot as plt\n",
    "import numpy as np"
   ]
  },
  {
   "cell_type": "markdown",
   "id": "3044f328-9f97-4769-b218-8434c2abf6bc",
   "metadata": {},
   "source": [
    "#### Conjunto factible"
   ]
  },
  {
   "cell_type": "markdown",
   "id": "15647642-caba-4d7a-af1c-89d214e14b2d",
   "metadata": {},
   "source": [
    "Implementamos las restricciones en el caso donde son iguales al valor propuesto como restricción, y construímos funciones lineales en términos de $x_2$ que producen $x_1$."
   ]
  },
  {
   "cell_type": "code",
   "execution_count": 3,
   "id": "45fb1662-299c-498e-bf34-ddff0a9e39db",
   "metadata": {},
   "outputs": [],
   "source": [
    "def g_constraint(x_2):\n",
    "    return 8 - 2 * x_2\n",
    "\n",
    "def j_constraint(x_2):\n",
    "    return (20 - 2 * x_2) / 7.0\n",
    "\n",
    "def k_constraint(x_2):\n",
    "    return 5 - x_2"
   ]
  },
  {
   "cell_type": "markdown",
   "id": "28df6771-9604-4bf9-9f88-cae4aa1b06cb",
   "metadata": {},
   "source": [
    "Graficamos las diferentes restricciones del problema."
   ]
  },
  {
   "cell_type": "code",
   "execution_count": 4,
   "id": "c16f5576-4fb1-4d6f-9222-c12df903cc1d",
   "metadata": {},
   "outputs": [
    {
     "data": {
      "image/png": "[encoded data removed]",
      "text/plain": [
       "<Figure size 640x480 with 1 Axes>"
      ]
     },
     "metadata": {},
     "output_type": "display_data"
    }
   ],
   "source": [
    "domain = np.array(range(8))\n",
    "\n",
    "g_range = []\n",
    "j_range = []\n",
    "k_range = []\n",
    "for i in domain:\n",
    "    g_range.append(g_constraint(i))\n",
    "    j_range.append(j_constraint(i))\n",
    "    k_range.append(k_constraint(i))\n",
    "\n",
    "plt.plot(domain, g_range)\n",
    "plt.plot(domain, j_range)\n",
    "plt.plot(domain, k_range)\n",
    "plt.xlabel(\"x_2 - Number of masters\")\n",
    "plt.ylabel(\"x_1 - Number of doctors\")\n",
    "plt.show()"
   ]
  },
  {
   "cell_type": "markdown",
   "id": "293c11dc-e621-4523-ac68-2cf1d5daf137",
   "metadata": {},
   "source": [
    "Transformamos la función de costo para obtener líneas de contorno, observando cómo se acerca la función al conjunto factible.\n",
    "$$\n",
    "\\begin{gather}\n",
    "-f(x) = -1000 x_1 - 350 x_2 \\\\\n",
    "1000 x_1 = f(x) - 350 x_2 \\\\\n",
    "x_1 = \\frac{f(x) - 350 x_2}{1000}\n",
    "\\end{gather}\n",
    "$$"
   ]
  },
  {
   "cell_type": "code",
   "execution_count": 5,
   "id": "1d5f7546-9ea4-4ecf-b363-b713d77b3f65",
   "metadata": {},
   "outputs": [],
   "source": [
    "def cost_func(x_1, x_2):\n",
    "    return - (1000 * x_1) - (350 * x_2)"
   ]
  },
  {
   "cell_type": "code",
   "execution_count": 6,
   "id": "c34741a0-8b5e-4980-b2aa-02177a7be580",
   "metadata": {},
   "outputs": [
    {
     "data": {
      "image/png": "[encoded data removed]",
      "text/plain": [
       "<Figure size 640x480 with 1 Axes>"
      ]
     },
     "metadata": {},
     "output_type": "display_data"
    }
   ],
   "source": [
    "level_lines = np.empty((8, 8))\n",
    "costs = []\n",
    "for x1 in range(-6, 2):\n",
    "    costs.append(cost_func(x1, domain[x1 + 6]))\n",
    "\n",
    "plt.plot(domain, g_range)\n",
    "plt.plot(domain, j_range)\n",
    "plt.plot(domain, k_range)\n",
    "for level in range(level_lines.shape[1]):\n",
    "    for v in range(level_lines.shape[0]):\n",
    "        level_lines[v, level] = (costs[level] - 350 * domain[v]) / 1000.0\n",
    "    plt.plot(domain, level_lines[:, level], color = \"purple\", linestyle = \"dashed\")\n",
    "\n",
    "plt.xlabel(\"x_2 - Number of masters\")\n",
    "plt.ylabel(\"x_1 - Number of doctors\")\n",
    "plt.show()"
   ]
  },
  {
   "cell_type": "markdown",
   "id": "4ca2d28e-2d64-411e-b58d-89acae9188db",
   "metadata": {},
   "source": [
    "Observamos que las líneas de las restricciones para el conjunto factible coinciden en un punto. Extraemos $x_1$ y hacemos sustitución:\n",
    "$$\n",
    "k(x) = x_1 + x_2 = 5 \\rightarrow x_1 = 5 - x_2 \\\\\n",
    "$$\n",
    "\n",
    "Usamos $j(x)$.\n",
    "$$\n",
    "\\begin{gather}\n",
    "j(x) = 7 x_1 + 2 x_2 = 20 \\\\\n",
    "7 (5 - x_2) + 2 x_2 = 20 \\\\\n",
    "35 - 7 x_2 + 2 x_2 = 20 \\\\\n",
    "x_2 = 3\n",
    "\\end{gather}\n",
    "$$\n",
    "\n",
    "La restricción $k(x)$ y $j(x)$ coinciden en el punto $x = \\begin{bmatrix} 2 \\\\ 3\\end{bmatrix}$. Si coincide con $g(x)$ tenemos un único punto de intersección.\n",
    "$$\n",
    "\\begin{gather}\n",
    "g(x) = x_1 + 2 x_2 = 8 \\\\\n",
    "(5 - x_2) + 2 x_2 = 8 \\\\\n",
    "5 + x_2 = 8 \\\\\n",
    "x_2 = 3\n",
    "\\end{gather}\n",
    "$$\n",
    "\n",
    "Como $g(x)$, $j(x)$ y $k(x)$ coinciden en el mismo punto $x = \\begin{bmatrix} 2 \\\\ 3\\end{bmatrix}$, tenemos que el conjunto factible es:\n",
    "$$\n",
    "x\\in \\mathbb{N} |\\ x_1 = 2 \\wedge x_2 = 3\n",
    "$$"
   ]
  },
  {
   "cell_type": "markdown",
   "id": "94de2493-eb83-4b79-984a-d316234c47f2",
   "metadata": {},
   "source": [
    "### Óptimo"
   ]
  },
  {
   "cell_type": "markdown",
   "id": "350aa441-af15-4812-98f0-70b9701e5c1b",
   "metadata": {},
   "source": [
    "El óptimo para minimizar $-f(x)$ es $x = \\begin{bmatrix} 2 \\\\ 3\\end{bmatrix}$, es decir, contratar 2 estudiantes de doctorado y 3 de maestría."
   ]
  },
  {
   "cell_type": "code",
   "execution_count": 7,
   "id": "9883486a-a7c0-479d-9fa3-0714622cb45e",
   "metadata": {},
   "outputs": [
    {
     "data": {
      "text/plain": [
       "3050"
      ]
     },
     "execution_count": 7,
     "metadata": {},
     "output_type": "execute_result"
    }
   ],
   "source": [
    "-cost_func(2, 3)"
   ]
  },
  {
   "cell_type": "markdown",
   "id": "741c4a56-aba6-4677-b9e9-eb84af39a885",
   "metadata": {},
   "source": [
    "El costo por su contrato sería de $3050$"
   ]
  },
  {
   "cell_type": "markdown",
   "id": "075b98b7-9e52-40c7-b384-b62da1dcbac6",
   "metadata": {},
   "source": [
    "## Punto 2"
   ]
  },
  {
   "cell_type": "markdown",
   "id": "7bfa73b9-9eb0-4dc5-87b0-9e546936a0bd",
   "metadata": {},
   "source": [
    "Se quiere diseñar una caja de profundidad $z$ ancho $x$ y alto $y$ sin cubierta. El esto\n",
    "de las paredes de longitud $z$ cuestan $\\$10/m^2$ , el costo de las paredes de longitud $x$ cuestan $\\$20/m^2$, el costo del fondo $zx$ cuesta $\\$10/m^2$, el costo de cada viaje de ida cuesta $\\$5$, el costo de cada viaje de vuelta cuesta $\\$5$. Se quiere calcular la dimensión de la caja para minimizar el costo de transportar $400m^3$ de arena de un punto $a$ un punto $b$."
   ]
  },
  {
   "cell_type": "markdown",
   "id": "39b2e4da-9f52-472c-928d-895513e4c329",
   "metadata": {},
   "source": [
    "![box-model](../resources/images/lab2/box-model-point2.png)"
   ]
  },
  {
   "cell_type": "markdown",
   "id": "ae639124-fe2d-4b08-974d-f064012fd39b",
   "metadata": {},
   "source": [
    "Definimos que nuestras variables van a ser:\n",
    "$$\n",
    "\\begin{bmatrix}\n",
    "width \\\\\n",
    "high \\\\\n",
    "depth \\\\\n",
    "travels\n",
    "\\end{bmatrix} = \n",
    "\\begin{bmatrix}\n",
    "x \\\\\n",
    "y \\\\\n",
    "z \\\\\n",
    "e\n",
    "\\end{bmatrix}\n",
    "$$"
   ]
  },
  {
   "cell_type": "markdown",
   "id": "6df7cbf7-7e22-473b-9770-67c7c606500c",
   "metadata": {},
   "source": [
    "Siendo la función de costo:\n",
    "$$\n",
    "\\begin{gather}\n",
    "f(x, y, z, e) = 2(10zy) + 2(20xy) + 10zx + 10e - 5 \\\\\n",
    "f(x, y, z, e) = 20zy + 40xy + 10zx + 10e - 5 \\\\\n",
    "\\boxed{f(x, y, z, e) = 5(4zy + 8xy + 2zx + 2e - 1)}\n",
    "\\end{gather}\n",
    "$$"
   ]
  },
  {
   "cell_type": "markdown",
   "id": "908ff1b2-1ebe-4703-ae7e-df9e47ed6d89",
   "metadata": {},
   "source": [
    "El problema se pueda expresar como:\n",
    "$$\n",
    "\\begin{matrix}\n",
    "minimize & -f(x, y, z, e) = -5(4zy + 8xy + 2zx + 2e - 1) \\\\\n",
    "\\begin{bmatrix}\n",
    "x \\\\\n",
    "y \\\\\n",
    "z \\\\\n",
    "e \\\\\n",
    "\\end{bmatrix} \\in \\mathbb{R}^4 & subject\\ to\\ \n",
    "\\begin{gather}\n",
    "x \\geqslant 1 \\\\\n",
    "y \\geqslant 1 \\\\\n",
    "z \\geqslant 1 \\\\\n",
    "e \\geqslant 1 \\\\\n",
    "xyz \\geqslant 400\n",
    "\\end{gather}\n",
    "\\end{matrix}\n",
    "$$"
   ]
  },
  {
   "cell_type": "markdown",
   "id": "05df4b99-7df2-4541-9eb8-c155779d2f6c",
   "metadata": {},
   "source": [
    "En este planteamiento, las cajas van cargadas con arena y vuelven vacías. Al final, en el último viaje las cajas llevan la arena pero no vuelven."
   ]
  },
  {
   "cell_type": "markdown",
   "id": "20850757-4a6e-4079-8b99-118cee876fa0",
   "metadata": {},
   "source": [
    "## Punto 3"
   ]
  },
  {
   "cell_type": "markdown",
   "id": "daaad872-c079-417b-b6ce-2a09c9e57968",
   "metadata": {},
   "source": [
    "Una empresa está planificando la creación de un nuevo producto utilizando tres tipos de materiales: $A,\\ B\\ y\\ C$. La empresa desea determinar la cantidad de cada material que debe utilizar para maximizar las ganancias, pero debe respetar ciertas limitaciones en cuanto a la disponibilidad de estos recursos.\n",
    "\n",
    "La empresa ha determinado que, en total, no puede usar más de $100$ unidades combinadas de los tres materiales. Además, se requiere que se utilice un mı́nimo de $20$ unidades del material $A$, para asegurar la calidad del producto. Por otro lado, la combinación de los materiales $B$ y $C$ debe ser al menos suficiente para cumplir con los estándares de producción, es decir, deben\n",
    "sumar al menos $50$ unidades.\n",
    "\n",
    "La empresa también sabe que el costo de cada material es menor que su valor de venta. El material $A$ tiene un costo de $40$ por unidad y se puede vender por $50$; el material $B$ cuesta $45$ por unidad y se puede vender por $60$; y el material $C$ tiene un costo de $60$ por unidad y se puede vender por $80$. \n",
    "\n",
    "El objetivo de la empresa es maximizar las ganancias, que dependen de la diferencia entre el costo y el precio de venta de cada material. ¿Cuántas unidades de cada material debe usar la empresa para obtener la máxima ganancia posible, respetando las restricciones mencionadas?"
   ]
  },
  {
   "cell_type": "markdown",
   "id": "6586d384-ea7a-4a3f-a58a-744b12f1dae9",
   "metadata": {},
   "source": [
    "### Formulación"
   ]
  },
  {
   "cell_type": "markdown",
   "id": "97a85802-07ac-4f0c-9bf7-e596dba3f542",
   "metadata": {},
   "source": [
    "Definimos que nuestras soluciones van a tener la forma:\n",
    "$$ units\\ of\\ materials: x = \n",
    "\\begin{bmatrix}\n",
    "A \\\\\n",
    "B \\\\\n",
    "C \n",
    "\\end{bmatrix}\n",
    "$$"
   ]
  },
  {
   "cell_type": "markdown",
   "id": "da039a31-ec26-4d5b-b47a-7e19910ab26a",
   "metadata": {},
   "source": [
    "La formulación para la función de costo sería:\n",
    "$$\n",
    "\\begin{gather}\n",
    "f(x) = Profit_A + Profit_B + Profit_C \\\\\n",
    "f(x) = (50x_1 - 40x_1) + (60x_2 - 45x_2) + (80x_3 - 60x_3) \\\\\n",
    "f(x) = 10x_1 + 15x_2 + 20x_3 \\\\\n",
    "\\boxed{f(x) = 5(2x_1 + 3x_2 + 4x_3)}\n",
    "\\end{gather}\n",
    "$$"
   ]
  },
  {
   "cell_type": "markdown",
   "id": "8b1cad02-f316-48f7-b30b-446396a958c6",
   "metadata": {},
   "source": [
    "Las restricciones para el conjunto factible quedarían:\n",
    "$$\n",
    "\\begin{gather}\n",
    "g(x) = x_1 + x_2 + x_3 \\leqslant 100 \\\\\n",
    "h(x) = x_1 \\geqslant 20 \\\\\n",
    "k(x) = x_2 + x_3 \\geqslant 50\n",
    "\\end{gather}\n",
    "$$"
   ]
  },
  {
   "cell_type": "markdown",
   "id": "e54c40bb-52c1-42d8-ba9e-598833fddab0",
   "metadata": {},
   "source": [
    "Finalmente, la formulación para optimizar quedaría:\n",
    "$$\n",
    "\\begin{matrix}\n",
    "minimize & -f(x) = -5(2x_1 + 3x_2 + 4x_3) \\\\\n",
    "x \\in \\mathbb{N}^3 & subject\\ to\\ \n",
    "\\begin{gather}\n",
    "g(x) = x_1 + x_2 + x_3 \\leqslant 100 \\\\\n",
    "h(x) = x_1 \\geqslant 20 \\\\\n",
    "k(x) = x_2 + x_3 \\geqslant 50\n",
    "\\end{gather}\n",
    "\\end{matrix}\n",
    "$$"
   ]
  }
 ],
 "metadata": {
  "kernelspec": {
   "display_name": "Python 3 (ipykernel)",
   "language": "python",
   "name": "python3"
  },
  "language_info": {
   "codemirror_mode": {
    "name": "ipython",
    "version": 3
   },
   "file_extension": ".py",
   "mimetype": "text/x-python",
   "name": "python",
   "nbconvert_exporter": "python",
   "pygments_lexer": "ipython3",
   "version": "3.11.2"
  }
 },
 "nbformat": 4,
 "nbformat_minor": 5
}
