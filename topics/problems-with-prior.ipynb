{
 "cells": [
  {
   "cell_type": "markdown",
   "id": "db4401c9-e40b-4048-93b5-8990e33a0ac9",
   "metadata": {},
   "source": [
    "# Lasso Problems"
   ]
  },
  {
   "cell_type": "markdown",
   "id": "ccccc5a9-0e04-4b1f-afac-06a54f6aa7a1",
   "metadata": {},
   "source": [
    "An problem can be modeled as:\n",
    "$$\n",
    "\\min_{\\mathcal{x} \\in \\mathbb{R}^{64 \\times 64}} \\underbrace{||y - Hx||^2}_{fidelity} + \\underbrace{||x||_1}_{prior}\n",
    "$$"
   ]
  },
  {
   "cell_type": "markdown",
   "id": "6ab15d1b-d9df-43aa-a381-83b54f811d1a",
   "metadata": {},
   "source": [
    "## Steps for workshop"
   ]
  },
  {
   "cell_type": "markdown",
   "id": "b5680351-7319-4151-a209-6e5a11da03a0",
   "metadata": {},
   "source": [
    "Plantear el problema como un problema con restricciones.\n",
    "$$\n",
    "\\begin{gather}\n",
    "\\min_{\\mathcal{x}, \\mathcal{z}} ||y - Hx||^2 + ||z||_1 \\\\\n",
    "subject\\ to\\ x = z\n",
    "\\end{gather}\n",
    "$$"
   ]
  },
  {
   "cell_type": "markdown",
   "id": "6d10c512-d07e-4867-b6be-41ab87fe99a2",
   "metadata": {},
   "source": [
    "Calcular el lagrangiano aumentado.\n",
    "$$\n",
    "\\begin{gather}\n",
    "\\mathcal{L}(x, z, \\mu) = \\Vert y - Hx \\Vert + \\Vert z \\Vert_1 + \\frac{\\rho}{2} \\Vert x - z + \\mu \\Vert^2_2\n",
    "\\end{gather}\n",
    "$$"
   ]
  },
  {
   "cell_type": "markdown",
   "id": "52412c1e-fd02-45a0-abf2-0b20324c5d9c",
   "metadata": {},
   "source": [
    "Minimizar el $\\mathcal{L}$ respecto a $x, z, y$ minimiza $\\mu$.\n",
    "$$\n",
    "\\begin{alignat}{1}\n",
    "x_{k + 1} &= \\min_{\\mathcal{x}} ||y - Hx||^2 + \\frac{\\rho}{2} \\Vert x - z^k + \\mu^k \\Vert^2_2 \\\\\n",
    "x_{k + 1} &= (2 H^T H + \\rho I)^{-1} (2 H^T y + \\rho (z^k - \\mu^k) \\\\\n",
    "z_{k + 1} &= \\min_{\\mathcal{z}} \\Vert z \\Vert_1 + \\frac{\\rho}{2} \\Vert x^k - z + \\mu^k \\Vert^2_2 \\\\\n",
    "z_{k + 1} &= S_{1/\\rho} (x^k + \\mu^k) \\\\\n",
    "\\mu_{k + 1} &= \\mu_k + \\rho (x^{k+1} + z^{k+1})\n",
    "\\end{alignat}\n",
    "$$\n",
    "\n",
    "El $S_n(x)$ es el *soft-threholding*, se define como:\n",
    "$$\n",
    "S_n(x) = \n",
    "\\begin{cases}\n",
    "x + n &\\text{if } x < -n \\\\\n",
    "0 &\\text{if } -n < x < n \\\\\n",
    "x - n &\\text{if } x > n \\\\\n",
    "\\end{cases}\n",
    "$$"
   ]
  },
  {
   "cell_type": "code",
   "execution_count": null,
   "id": "797dddba-cfba-405e-87b1-c339de485e2f",
   "metadata": {},
   "outputs": [],
   "source": []
  }
 ],
 "metadata": {
  "kernelspec": {
   "display_name": "Python 3 (ipykernel)",
   "language": "python",
   "name": "python3"
  },
  "language_info": {
   "codemirror_mode": {
    "name": "ipython",
    "version": 3
   },
   "file_extension": ".py",
   "mimetype": "text/x-python",
   "name": "python",
   "nbconvert_exporter": "python",
   "pygments_lexer": "ipython3",
   "version": "3.11.2"
  }
 },
 "nbformat": 4,
 "nbformat_minor": 5
}
